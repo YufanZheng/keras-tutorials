{
 "cells": [
  {
   "cell_type": "markdown",
   "metadata": {},
   "source": [
    "## MLP的二分类"
   ]
  },
  {
   "cell_type": "code",
   "execution_count": 1,
   "metadata": {},
   "outputs": [
    {
     "name": "stderr",
     "output_type": "stream",
     "text": [
      "Using TensorFlow backend.\n"
     ]
    },
    {
     "name": "stdout",
     "output_type": "stream",
     "text": [
      "Epoch 1/20\n",
      "1000/1000 [==============================] - 0s - loss: 0.7183 - acc: 0.4950     \n",
      "Epoch 2/20\n",
      "1000/1000 [==============================] - 0s - loss: 0.7062 - acc: 0.5100     \n",
      "Epoch 3/20\n",
      "1000/1000 [==============================] - 0s - loss: 0.7050 - acc: 0.5080     \n",
      "Epoch 4/20\n",
      "1000/1000 [==============================] - 0s - loss: 0.7051 - acc: 0.5190     \n",
      "Epoch 5/20\n",
      "1000/1000 [==============================] - 0s - loss: 0.7073 - acc: 0.4940     \n",
      "Epoch 6/20\n",
      "1000/1000 [==============================] - 0s - loss: 0.6980 - acc: 0.5290     \n",
      "Epoch 7/20\n",
      "1000/1000 [==============================] - 0s - loss: 0.7002 - acc: 0.4960     \n",
      "Epoch 8/20\n",
      "1000/1000 [==============================] - 0s - loss: 0.6917 - acc: 0.5380     \n",
      "Epoch 9/20\n",
      "1000/1000 [==============================] - 0s - loss: 0.6942 - acc: 0.5190     \n",
      "Epoch 10/20\n",
      "1000/1000 [==============================] - 0s - loss: 0.7037 - acc: 0.4790     \n",
      "Epoch 11/20\n",
      "1000/1000 [==============================] - 0s - loss: 0.6977 - acc: 0.5170     \n",
      "Epoch 12/20\n",
      "1000/1000 [==============================] - 0s - loss: 0.6942 - acc: 0.5250     \n",
      "Epoch 13/20\n",
      "1000/1000 [==============================] - 0s - loss: 0.6990 - acc: 0.4870     \n",
      "Epoch 14/20\n",
      "1000/1000 [==============================] - 0s - loss: 0.6993 - acc: 0.4970     \n",
      "Epoch 15/20\n",
      "1000/1000 [==============================] - 0s - loss: 0.6909 - acc: 0.5080     \n",
      "Epoch 16/20\n",
      "1000/1000 [==============================] - 0s - loss: 0.6916 - acc: 0.5270     \n",
      "Epoch 17/20\n",
      "1000/1000 [==============================] - ETA: 0s - loss: 0.7027 - acc: 0.515 - 0s - loss: 0.6891 - acc: 0.5450     \n",
      "Epoch 18/20\n",
      "1000/1000 [==============================] - 0s - loss: 0.6936 - acc: 0.5180     \n",
      "Epoch 19/20\n",
      "1000/1000 [==============================] - 0s - loss: 0.6916 - acc: 0.5130     \n",
      "Epoch 20/20\n",
      "1000/1000 [==============================] - 0s - loss: 0.6932 - acc: 0.5110     \n",
      "100/100 [==============================] - 0s\n"
     ]
    }
   ],
   "source": [
    "import numpy as np\n",
    "from keras.models import Sequential\n",
    "from keras.layers import Dense, Dropout\n",
    "\n",
    "# Generate dummy data\n",
    "x_train = np.random.random((1000, 20))\n",
    "y_train = np.random.randint(2, size=(1000, 1))\n",
    "x_test = np.random.random((100, 20))\n",
    "y_test = np.random.randint(2, size=(100, 1))\n",
    "\n",
    "model = Sequential()\n",
    "model.add(Dense(64, input_dim=20, activation='relu'))\n",
    "model.add(Dropout(0.5))\n",
    "model.add(Dense(64, activation='relu'))\n",
    "model.add(Dropout(0.5))\n",
    "model.add(Dense(1, activation='sigmoid'))\n",
    "\n",
    "model.compile(loss='binary_crossentropy',\n",
    "              optimizer='rmsprop',\n",
    "              metrics=['accuracy'])\n",
    "model.fit(x_train, y_train,\n",
    "          epochs=20,\n",
    "          batch_size=128)\n",
    "score = model.evaluate(x_test, y_test, batch_size=128)"
   ]
  }
 ],
 "metadata": {
  "kernelspec": {
   "display_name": "Python 3",
   "language": "python",
   "name": "python3"
  },
  "language_info": {
   "codemirror_mode": {
    "name": "ipython",
    "version": 3
   },
   "file_extension": ".py",
   "mimetype": "text/x-python",
   "name": "python",
   "nbconvert_exporter": "python",
   "pygments_lexer": "ipython3",
   "version": "3.6.2"
  }
 },
 "nbformat": 4,
 "nbformat_minor": 2
}
