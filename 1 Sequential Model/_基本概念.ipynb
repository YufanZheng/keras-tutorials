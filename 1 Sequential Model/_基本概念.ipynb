{
 "cells": [
  {
   "cell_type": "markdown",
   "metadata": {},
   "source": [
    "## 序贯（Sequential）模型"
   ]
  },
  {
   "cell_type": "markdown",
   "metadata": {},
   "source": [
    "- 通过.add()方法一个个的将layer加入模型中："
   ]
  },
  {
   "cell_type": "code",
   "execution_count": 1,
   "metadata": {},
   "outputs": [
    {
     "name": "stderr",
     "output_type": "stream",
     "text": [
      "Using TensorFlow backend.\n"
     ]
    }
   ],
   "source": [
    "from keras.models import Sequential\n",
    "from keras.layers import Dense, Activation\n",
    "import keras\n",
    "\n",
    "model = Sequential()\n",
    "model.add(Dense(32, input_shape=(500,)))\n",
    "model.add(Dense(10, activation='softmax'))"
   ]
  },
  {
   "cell_type": "markdown",
   "metadata": {},
   "source": [
    "- 指定输入数据的shape"
   ]
  },
  {
   "cell_type": "code",
   "execution_count": 2,
   "metadata": {
    "collapsed": true
   },
   "outputs": [],
   "source": [
    "model = Sequential()\n",
    "model.add(Dense(32, input_dim=784))"
   ]
  },
  {
   "cell_type": "code",
   "execution_count": 3,
   "metadata": {
    "collapsed": true
   },
   "outputs": [],
   "source": [
    "model = Sequential()\n",
    "# nput_shape是一个tuple类型的数据，其中也可以填入None，如果填入None则表示此位置可能是任何正整数\n",
    "model.add(Dense(32, input_shape=(784,)))"
   ]
  },
  {
   "cell_type": "markdown",
   "metadata": {},
   "source": [
    "## 编译"
   ]
  },
  {
   "cell_type": "markdown",
   "metadata": {},
   "source": [
    "### 在训练模型之前，我们需要通过compile来对学习过程进行配置。compile接收三个参数：\n",
    "- 优化器optimizer：该参数可指定为已预定义的优化器名，如rmsprop、adagrad，或一个Optimizer类的对象，详情见optimizers\n",
    "- 损失函数loss：该参数为模型试图最小化的目标函数，它可为预定义的损失函数名，如categorical_crossentropy、mse，也可以为一个损失函数。详情见losses\n",
    "- 指标列表metrics：对分类问题，我们一般将该列表设置为metrics=['accuracy']。指标可以是一个预定义指标的名字,也可以是一个用户定制的函数.指标函数应该返回单个张量,或一个完成metric_name - > metric_value映射的字典.请参考性能评估"
   ]
  },
  {
   "cell_type": "code",
   "execution_count": 4,
   "metadata": {
    "collapsed": true
   },
   "outputs": [],
   "source": [
    "# For a multi-class classification problem\n",
    "model.compile(optimizer='rmsprop',\n",
    "              loss='categorical_crossentropy',\n",
    "              metrics=['accuracy'])\n",
    "\n",
    "# For a binary classification problem\n",
    "model.compile(optimizer='rmsprop',\n",
    "              loss='binary_crossentropy',\n",
    "              metrics=['accuracy'])\n",
    "\n",
    "# For a mean squared error regression problem\n",
    "model.compile(optimizer='rmsprop',\n",
    "              loss='mse')\n",
    "\n",
    "# For custom metrics\n",
    "import keras.backend as K\n",
    "\n",
    "def mean_pred(y_true, y_pred):\n",
    "    return K.mean(y_pred)\n",
    "\n",
    "model.compile(optimizer='rmsprop',\n",
    "              loss='binary_crossentropy',\n",
    "              metrics=['accuracy', mean_pred])"
   ]
  },
  {
   "cell_type": "markdown",
   "metadata": {},
   "source": [
    "## 训练\n",
    "Keras以Numpy数组作为输入数据和标签的数据类型。训练模型一般使用fit函数，该函数的详情见这里。下面是一些例子。"
   ]
  },
  {
   "cell_type": "code",
   "execution_count": 5,
   "metadata": {},
   "outputs": [
    {
     "name": "stdout",
     "output_type": "stream",
     "text": [
      "Epoch 1/10\n",
      "1000/1000 [==============================] - 0s - loss: 0.7284 - acc: 0.5070     \n",
      "Epoch 2/10\n",
      "1000/1000 [==============================] - 0s - loss: 0.7130 - acc: 0.4920     \n",
      "Epoch 3/10\n",
      "1000/1000 [==============================] - 0s - loss: 0.6990 - acc: 0.5340     \n",
      "Epoch 4/10\n",
      "1000/1000 [==============================] - 0s - loss: 0.6959 - acc: 0.5410     \n",
      "Epoch 5/10\n",
      "1000/1000 [==============================] - 0s - loss: 0.6915 - acc: 0.5290     \n",
      "Epoch 6/10\n",
      "1000/1000 [==============================] - 0s - loss: 0.6838 - acc: 0.5580     \n",
      "Epoch 7/10\n",
      "1000/1000 [==============================] - 0s - loss: 0.6815 - acc: 0.5610     \n",
      "Epoch 8/10\n",
      "1000/1000 [==============================] - 0s - loss: 0.6765 - acc: 0.5660     \n",
      "Epoch 9/10\n",
      "1000/1000 [==============================] - 0s - loss: 0.6731 - acc: 0.5760     \n",
      "Epoch 10/10\n",
      "1000/1000 [==============================] - 0s - loss: 0.6706 - acc: 0.5780     \n"
     ]
    },
    {
     "data": {
      "text/plain": [
       "<keras.callbacks.History at 0x11aa90588>"
      ]
     },
     "execution_count": 5,
     "metadata": {},
     "output_type": "execute_result"
    }
   ],
   "source": [
    "# For a single-input model with 2 classes (binary classification):\n",
    "\n",
    "model = Sequential()\n",
    "model.add(Dense(32, activation='relu', input_dim=100))\n",
    "model.add(Dense(1, activation='sigmoid'))\n",
    "model.compile(optimizer='rmsprop',\n",
    "              loss='binary_crossentropy',\n",
    "              metrics=['accuracy'])\n",
    "\n",
    "# Generate dummy data\n",
    "import numpy as np\n",
    "data = np.random.random((1000, 100))\n",
    "labels = np.random.randint(2, size=(1000, 1))\n",
    "\n",
    "# Train the model, iterating on the data in batches of 32 samples\n",
    "model.fit(data, labels, epochs=10, batch_size=32)"
   ]
  },
  {
   "cell_type": "code",
   "execution_count": 6,
   "metadata": {},
   "outputs": [
    {
     "name": "stdout",
     "output_type": "stream",
     "text": [
      "Epoch 1/10\n",
      "1000/1000 [==============================] - 0s - loss: 2.3459 - acc: 0.1070     \n",
      "Epoch 2/10\n",
      "1000/1000 [==============================] - 0s - loss: 2.3083 - acc: 0.1200     \n",
      "Epoch 3/10\n",
      "1000/1000 [==============================] - 0s - loss: 2.2960 - acc: 0.1310     \n",
      "Epoch 4/10\n",
      "1000/1000 [==============================] - 0s - loss: 2.2883 - acc: 0.1470     \n",
      "Epoch 5/10\n",
      "1000/1000 [==============================] - 0s - loss: 2.2833 - acc: 0.1260     \n",
      "Epoch 6/10\n",
      "1000/1000 [==============================] - 0s - loss: 2.2718 - acc: 0.1530     \n",
      "Epoch 7/10\n",
      "1000/1000 [==============================] - 0s - loss: 2.2654 - acc: 0.1570     \n",
      "Epoch 8/10\n",
      "1000/1000 [==============================] - 0s - loss: 2.2564 - acc: 0.1650     \n",
      "Epoch 9/10\n",
      "1000/1000 [==============================] - 0s - loss: 2.2532 - acc: 0.1730     \n",
      "Epoch 10/10\n",
      "1000/1000 [==============================] - 0s - loss: 2.2413 - acc: 0.1870     \n"
     ]
    },
    {
     "data": {
      "text/plain": [
       "<keras.callbacks.History at 0x11b4a6320>"
      ]
     },
     "execution_count": 6,
     "metadata": {},
     "output_type": "execute_result"
    }
   ],
   "source": [
    "# For a single-input model with 10 classes (categorical classification):\n",
    "\n",
    "model = Sequential()\n",
    "model.add(Dense(32, activation='relu', input_dim=100))\n",
    "model.add(Dense(10, activation='softmax'))\n",
    "model.compile(optimizer='rmsprop',\n",
    "              loss='categorical_crossentropy',\n",
    "              metrics=['accuracy'])\n",
    "\n",
    "# Generate dummy data\n",
    "import numpy as np\n",
    "data = np.random.random((1000, 100))\n",
    "labels = np.random.randint(10, size=(1000, 1))\n",
    "\n",
    "# Convert labels to categorical one-hot encoding\n",
    "one_hot_labels = keras.utils.to_categorical(labels, num_classes=10)\n",
    "\n",
    "# Train the model, iterating on the data in batches of 32 samples\n",
    "model.fit(data, one_hot_labels, epochs=10, batch_size=32)\n"
   ]
  }
 ],
 "metadata": {
  "kernelspec": {
   "display_name": "Python 3",
   "language": "python",
   "name": "python3"
  },
  "language_info": {
   "codemirror_mode": {
    "name": "ipython",
    "version": 3
   },
   "file_extension": ".py",
   "mimetype": "text/x-python",
   "name": "python",
   "nbconvert_exporter": "python",
   "pygments_lexer": "ipython3",
   "version": "3.6.2"
  }
 },
 "nbformat": 4,
 "nbformat_minor": 2
}
