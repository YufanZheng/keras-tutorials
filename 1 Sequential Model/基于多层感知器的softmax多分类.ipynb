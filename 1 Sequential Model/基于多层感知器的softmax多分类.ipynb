{
 "cells": [
  {
   "cell_type": "markdown",
   "metadata": {},
   "source": [
    "# 基于多层感知器的softmax多分类"
   ]
  },
  {
   "cell_type": "code",
   "execution_count": 2,
   "metadata": {},
   "outputs": [
    {
     "name": "stdout",
     "output_type": "stream",
     "text": [
      "Epoch 1/20\n",
      "1000/1000 [==============================] - 0s - loss: 2.4340 - acc: 0.0880     \n",
      "Epoch 2/20\n",
      "1000/1000 [==============================] - 0s - loss: 2.3853 - acc: 0.1030     \n",
      "Epoch 3/20\n",
      "1000/1000 [==============================] - 0s - loss: 2.3621 - acc: 0.0980     \n",
      "Epoch 4/20\n",
      "1000/1000 [==============================] - 0s - loss: 2.3408 - acc: 0.1080     \n",
      "Epoch 5/20\n",
      "1000/1000 [==============================] - 0s - loss: 2.3212 - acc: 0.1020     \n",
      "Epoch 6/20\n",
      "1000/1000 [==============================] - 0s - loss: 2.3222 - acc: 0.0990     \n",
      "Epoch 7/20\n",
      "1000/1000 [==============================] - 0s - loss: 2.3148 - acc: 0.1020     \n",
      "Epoch 8/20\n",
      "1000/1000 [==============================] - 0s - loss: 2.3087 - acc: 0.1130     \n",
      "Epoch 9/20\n",
      "1000/1000 [==============================] - 0s - loss: 2.3065 - acc: 0.1190     \n",
      "Epoch 10/20\n",
      "1000/1000 [==============================] - 0s - loss: 2.3102 - acc: 0.1060     \n",
      "Epoch 11/20\n",
      "1000/1000 [==============================] - 0s - loss: 2.3058 - acc: 0.1070     \n",
      "Epoch 12/20\n",
      "1000/1000 [==============================] - 0s - loss: 2.3066 - acc: 0.1200     \n",
      "Epoch 13/20\n",
      "1000/1000 [==============================] - 0s - loss: 2.3002 - acc: 0.1160     \n",
      "Epoch 14/20\n",
      "1000/1000 [==============================] - 0s - loss: 2.2998 - acc: 0.1170     \n",
      "Epoch 15/20\n",
      "1000/1000 [==============================] - 0s - loss: 2.2939 - acc: 0.1170     \n",
      "Epoch 16/20\n",
      "1000/1000 [==============================] - 0s - loss: 2.2992 - acc: 0.1140     \n",
      "Epoch 17/20\n",
      "1000/1000 [==============================] - 0s - loss: 2.3029 - acc: 0.1150     \n",
      "Epoch 18/20\n",
      "1000/1000 [==============================] - 0s - loss: 2.3013 - acc: 0.1200     \n",
      "Epoch 19/20\n",
      "1000/1000 [==============================] - 0s - loss: 2.2966 - acc: 0.1240     \n",
      "Epoch 20/20\n",
      "1000/1000 [==============================] - 0s - loss: 2.2949 - acc: 0.1190     \n",
      "100/100 [==============================] - 0s\n"
     ]
    }
   ],
   "source": [
    "from keras.models import Sequential\n",
    "from keras.layers import Dense, Dropout, Activation\n",
    "from keras.optimizers import SGD\n",
    "import keras\n",
    "\n",
    "# Generate dummy data\n",
    "import numpy as np\n",
    "x_train = np.random.random((1000, 20))\n",
    "y_train = keras.utils.to_categorical(np.random.randint(10, size=(1000, 1)), num_classes=10)\n",
    "x_test = np.random.random((100, 20))\n",
    "y_test = keras.utils.to_categorical(np.random.randint(10, size=(100, 1)), num_classes=10)\n",
    "\n",
    "model = Sequential()\n",
    "# Dense(64) is a fully-connected layer with 64 hidden units.\n",
    "# in the first layer, you must specify the expected input data shape:\n",
    "# here, 20-dimensional vectors.\n",
    "model.add(Dense(64, activation='relu', input_dim=20))\n",
    "model.add(Dropout(0.5))\n",
    "model.add(Dense(64, activation='relu'))\n",
    "model.add(Dropout(0.5))\n",
    "model.add(Dense(10, activation='softmax'))\n",
    "\n",
    "sgd = SGD(lr=0.01, decay=1e-6, momentum=0.9, nesterov=True)\n",
    "model.compile(loss='categorical_crossentropy',\n",
    "              optimizer=sgd,\n",
    "              metrics=['accuracy'])\n",
    "\n",
    "model.fit(x_train, y_train,\n",
    "          epochs=20,\n",
    "          batch_size=128)\n",
    "score = model.evaluate(x_test, y_test, batch_size=128)"
   ]
  }
 ],
 "metadata": {
  "kernelspec": {
   "display_name": "Python 3",
   "language": "python",
   "name": "python3"
  },
  "language_info": {
   "codemirror_mode": {
    "name": "ipython",
    "version": 3
   },
   "file_extension": ".py",
   "mimetype": "text/x-python",
   "name": "python",
   "nbconvert_exporter": "python",
   "pygments_lexer": "ipython3",
   "version": "3.6.2"
  }
 },
 "nbformat": 4,
 "nbformat_minor": 2
}
